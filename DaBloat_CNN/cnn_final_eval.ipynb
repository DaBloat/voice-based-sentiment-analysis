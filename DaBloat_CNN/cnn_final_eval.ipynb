{
 "cells": [
  {
   "cell_type": "code",
   "execution_count": 1,
   "id": "76f0b083",
   "metadata": {},
   "outputs": [
    {
     "name": "stderr",
     "output_type": "stream",
     "text": [
      "2025-05-17 14:39:03.926202: E external/local_xla/xla/stream_executor/cuda/cuda_fft.cc:467] Unable to register cuFFT factory: Attempting to register factory for plugin cuFFT when one has already been registered\n",
      "WARNING: All log messages before absl::InitializeLog() is called are written to STDERR\n",
      "E0000 00:00:1747463943.938892  153336 cuda_dnn.cc:8579] Unable to register cuDNN factory: Attempting to register factory for plugin cuDNN when one has already been registered\n",
      "E0000 00:00:1747463943.942735  153336 cuda_blas.cc:1407] Unable to register cuBLAS factory: Attempting to register factory for plugin cuBLAS when one has already been registered\n",
      "W0000 00:00:1747463943.953214  153336 computation_placer.cc:177] computation placer already registered. Please check linkage and avoid linking the same target more than once.\n",
      "W0000 00:00:1747463943.953230  153336 computation_placer.cc:177] computation placer already registered. Please check linkage and avoid linking the same target more than once.\n",
      "W0000 00:00:1747463943.953231  153336 computation_placer.cc:177] computation placer already registered. Please check linkage and avoid linking the same target more than once.\n",
      "W0000 00:00:1747463943.953233  153336 computation_placer.cc:177] computation placer already registered. Please check linkage and avoid linking the same target more than once.\n",
      "2025-05-17 14:39:03.957058: I tensorflow/core/platform/cpu_feature_guard.cc:210] This TensorFlow binary is optimized to use available CPU instructions in performance-critical operations.\n",
      "To enable the following instructions: AVX2 FMA, in other operations, rebuild TensorFlow with the appropriate compiler flags.\n"
     ]
    }
   ],
   "source": [
    "import torch\n",
    "import torch.nn.functional as F\n",
    "from torch import nn\n",
    "from transformers import PreTrainedModel, PretrainedConfig\n",
    "from torch.utils.data import Dataset\n",
    "from transformers import Trainer, TrainingArguments\n",
    "import pandas as pd\n",
    "from sklearn.preprocessing import LabelEncoder\n",
    "from sklearn.model_selection import train_test_split\n",
    "import librosa\n",
    "import numpy as np"
   ]
  },
  {
   "cell_type": "code",
   "execution_count": 2,
   "id": "111e5a8b",
   "metadata": {},
   "outputs": [],
   "source": [
    "class CNNConfig(PretrainedConfig):\n",
    "    model_type = \"cnn\"\n",
    "\n",
    "    def __init__(self, input_length=512, num_labels=3, **kwargs):\n",
    "        super().__init__(**kwargs)\n",
    "        self.input_length = input_length\n",
    "        self.num_labels = num_labels\n",
    "\n",
    "class CNNForSequenceClassification(PreTrainedModel):\n",
    "    config_class = CNNConfig\n",
    "\n",
    "    def __init__(self, config):\n",
    "        super().__init__(config)\n",
    "        self.num_labels = config.num_labels\n",
    "\n",
    "        self.conv1 = nn.Conv1d(1, 512, kernel_size=5, stride=1, padding=2)\n",
    "        self.bn1 = nn.BatchNorm1d(512)\n",
    "        self.pool1 = nn.MaxPool1d(kernel_size=5, stride=2, padding=2)\n",
    "\n",
    "        self.conv2 = nn.Conv1d(512, 512, kernel_size=5, stride=1, padding=2)\n",
    "        self.bn2 = nn.BatchNorm1d(512)\n",
    "        self.pool2 = nn.MaxPool1d(kernel_size=5, stride=2, padding=2)\n",
    "        self.drop2 = nn.Dropout(0.2)\n",
    "\n",
    "        self.conv3 = nn.Conv1d(512, 256, kernel_size=5, stride=1, padding=2)\n",
    "        self.bn3 = nn.BatchNorm1d(256)\n",
    "        self.pool3 = nn.MaxPool1d(kernel_size=5, stride=2, padding=2)\n",
    "\n",
    "        self.conv4 = nn.Conv1d(256, 256, kernel_size=3, stride=1, padding=1)\n",
    "        self.bn4 = nn.BatchNorm1d(256)\n",
    "        self.pool4 = nn.MaxPool1d(kernel_size=5, stride=2, padding=2)\n",
    "        self.drop4 = nn.Dropout(0.2)\n",
    "\n",
    "        self.conv5 = nn.Conv1d(256, 128, kernel_size=3, stride=1, padding=1)\n",
    "        self.bn5 = nn.BatchNorm1d(128)\n",
    "        self.pool5 = nn.MaxPool1d(kernel_size=3, stride=2, padding=1)\n",
    "        self.drop5 = nn.Dropout(0.2)\n",
    "\n",
    "        # Compute flattened output size dynamically\n",
    "        with torch.no_grad():\n",
    "            dummy = torch.zeros(1, 1, config.input_length)\n",
    "            x = self._forward_features(dummy)\n",
    "            self.flattened_size = x.view(1, -1).size(1)\n",
    "\n",
    "        self.fc1 = nn.Linear(self.flattened_size, 512)\n",
    "        self.bn_fc1 = nn.BatchNorm1d(512)\n",
    "        self.fc2 = nn.Linear(512, config.num_labels)\n",
    "\n",
    "        self.post_init()\n",
    "\n",
    "    def _forward_features(self, x):\n",
    "        x = self.pool1(F.relu(self.bn1(self.conv1(x))))\n",
    "        x = self.pool2(F.relu(self.bn2(self.conv2(x))))\n",
    "        x = self.drop2(x)\n",
    "        x = self.pool3(F.relu(self.bn3(self.conv3(x))))\n",
    "        x = self.pool4(F.relu(self.bn4(self.conv4(x))))\n",
    "        x = self.drop4(x)\n",
    "        x = self.pool5(F.relu(self.bn5(self.conv5(x))))\n",
    "        x = self.drop5(x)\n",
    "        return x\n",
    "\n",
    "    def forward(self, input_values=None, labels=None):\n",
    "        x = input_values.unsqueeze(1)  # (B, 1, T)\n",
    "        x = self._forward_features(x)\n",
    "        x = x.view(x.size(0), -1)  # Flatten\n",
    "        x = F.relu(self.bn_fc1(self.fc1(x)))\n",
    "        logits = self.fc2(x)\n",
    "\n",
    "        loss = None\n",
    "        if labels is not None:\n",
    "            loss = nn.CrossEntropyLoss()(logits, labels)\n",
    "\n",
    "        return {\"loss\": loss, \"logits\": logits} if loss is not None else {\"logits\": logits}"
   ]
  },
  {
   "cell_type": "code",
   "execution_count": 3,
   "id": "835883cd",
   "metadata": {},
   "outputs": [],
   "source": [
    "class EmotionDataset(Dataset):\n",
    "    def __init__(self, X, y):\n",
    "        self.X = torch.tensor(X, dtype=torch.float32)\n",
    "        self.y = torch.tensor(y, dtype=torch.long)\n",
    "\n",
    "    def __len__(self):\n",
    "        return len(self.X)\n",
    "\n",
    "    def __getitem__(self, idx):\n",
    "        return {\"input_values\": self.X[idx], \"labels\": self.y[idx]}"
   ]
  },
  {
   "cell_type": "code",
   "execution_count": 4,
   "id": "18928a2c",
   "metadata": {},
   "outputs": [],
   "source": [
    "\n",
    "device = torch.device(\"cuda\" if torch.cuda.is_available() else \"cpu\")\n",
    "config = CNNConfig.from_pretrained('./dabloat-cnn-emotion-aug')\n",
    "model = CNNForSequenceClassification(config=config)\n",
    "model = model.to(device) "
   ]
  },
  {
   "cell_type": "code",
   "execution_count": 5,
   "id": "b6c82040",
   "metadata": {},
   "outputs": [
    {
     "data": {
      "text/plain": [
       "<All keys matched successfully>"
      ]
     },
     "execution_count": 5,
     "metadata": {},
     "output_type": "execute_result"
    }
   ],
   "source": [
    "state_dict = torch.load('./dabloat-cnn-emotion-aug.pth', map_location=device)\n",
    "model.load_state_dict(state_dict)"
   ]
  },
  {
   "cell_type": "code",
   "execution_count": 6,
   "id": "f2d0f612",
   "metadata": {},
   "outputs": [
    {
     "data": {
      "text/html": [
       "<div>\n",
       "<style scoped>\n",
       "    .dataframe tbody tr th:only-of-type {\n",
       "        vertical-align: middle;\n",
       "    }\n",
       "\n",
       "    .dataframe tbody tr th {\n",
       "        vertical-align: top;\n",
       "    }\n",
       "\n",
       "    .dataframe thead th {\n",
       "        text-align: right;\n",
       "    }\n",
       "</style>\n",
       "<table border=\"1\" class=\"dataframe\">\n",
       "  <thead>\n",
       "    <tr style=\"text-align: right;\">\n",
       "      <th></th>\n",
       "      <th>0</th>\n",
       "      <th>1</th>\n",
       "      <th>2</th>\n",
       "      <th>3</th>\n",
       "      <th>4</th>\n",
       "      <th>5</th>\n",
       "      <th>6</th>\n",
       "      <th>7</th>\n",
       "      <th>8</th>\n",
       "      <th>9</th>\n",
       "      <th>...</th>\n",
       "      <th>2367</th>\n",
       "      <th>2368</th>\n",
       "      <th>2369</th>\n",
       "      <th>2370</th>\n",
       "      <th>2371</th>\n",
       "      <th>2372</th>\n",
       "      <th>2373</th>\n",
       "      <th>2374</th>\n",
       "      <th>2375</th>\n",
       "      <th>Emotions</th>\n",
       "    </tr>\n",
       "  </thead>\n",
       "  <tbody>\n",
       "    <tr>\n",
       "      <th>0</th>\n",
       "      <td>0.025391</td>\n",
       "      <td>0.031738</td>\n",
       "      <td>0.038574</td>\n",
       "      <td>0.026855</td>\n",
       "      <td>0.026855</td>\n",
       "      <td>0.034668</td>\n",
       "      <td>0.045410</td>\n",
       "      <td>0.054199</td>\n",
       "      <td>0.059082</td>\n",
       "      <td>0.057617</td>\n",
       "      <td>...</td>\n",
       "      <td>0.000000</td>\n",
       "      <td>0.000000</td>\n",
       "      <td>0.000000</td>\n",
       "      <td>0.000000</td>\n",
       "      <td>0.000000</td>\n",
       "      <td>0.000000</td>\n",
       "      <td>0.000000</td>\n",
       "      <td>0.000000</td>\n",
       "      <td>0.000000</td>\n",
       "      <td>negative</td>\n",
       "    </tr>\n",
       "    <tr>\n",
       "      <th>1</th>\n",
       "      <td>0.150391</td>\n",
       "      <td>0.162598</td>\n",
       "      <td>0.180176</td>\n",
       "      <td>0.073730</td>\n",
       "      <td>0.064941</td>\n",
       "      <td>0.065430</td>\n",
       "      <td>0.068848</td>\n",
       "      <td>0.070801</td>\n",
       "      <td>0.080078</td>\n",
       "      <td>0.097656</td>\n",
       "      <td>...</td>\n",
       "      <td>0.000000</td>\n",
       "      <td>0.000000</td>\n",
       "      <td>0.000000</td>\n",
       "      <td>0.000000</td>\n",
       "      <td>0.000000</td>\n",
       "      <td>0.000000</td>\n",
       "      <td>0.000000</td>\n",
       "      <td>0.000000</td>\n",
       "      <td>0.000000</td>\n",
       "      <td>positive</td>\n",
       "    </tr>\n",
       "    <tr>\n",
       "      <th>2</th>\n",
       "      <td>0.019043</td>\n",
       "      <td>0.024414</td>\n",
       "      <td>0.032715</td>\n",
       "      <td>0.034668</td>\n",
       "      <td>0.035156</td>\n",
       "      <td>0.037109</td>\n",
       "      <td>0.035645</td>\n",
       "      <td>0.035156</td>\n",
       "      <td>0.030273</td>\n",
       "      <td>0.038086</td>\n",
       "      <td>...</td>\n",
       "      <td>-11.658588</td>\n",
       "      <td>-0.967232</td>\n",
       "      <td>-9.198069</td>\n",
       "      <td>-2.373846</td>\n",
       "      <td>-9.807080</td>\n",
       "      <td>10.628701</td>\n",
       "      <td>-1.992553</td>\n",
       "      <td>0.143462</td>\n",
       "      <td>2.126044</td>\n",
       "      <td>neutral</td>\n",
       "    </tr>\n",
       "    <tr>\n",
       "      <th>3</th>\n",
       "      <td>0.018066</td>\n",
       "      <td>0.030762</td>\n",
       "      <td>0.062012</td>\n",
       "      <td>0.082031</td>\n",
       "      <td>0.104004</td>\n",
       "      <td>0.129883</td>\n",
       "      <td>0.125000</td>\n",
       "      <td>0.112305</td>\n",
       "      <td>0.090820</td>\n",
       "      <td>0.068848</td>\n",
       "      <td>...</td>\n",
       "      <td>0.000000</td>\n",
       "      <td>0.000000</td>\n",
       "      <td>0.000000</td>\n",
       "      <td>0.000000</td>\n",
       "      <td>0.000000</td>\n",
       "      <td>0.000000</td>\n",
       "      <td>0.000000</td>\n",
       "      <td>0.000000</td>\n",
       "      <td>0.000000</td>\n",
       "      <td>positive</td>\n",
       "    </tr>\n",
       "    <tr>\n",
       "      <th>4</th>\n",
       "      <td>0.019043</td>\n",
       "      <td>0.028809</td>\n",
       "      <td>0.041016</td>\n",
       "      <td>0.042480</td>\n",
       "      <td>0.041992</td>\n",
       "      <td>0.042480</td>\n",
       "      <td>0.040527</td>\n",
       "      <td>0.040527</td>\n",
       "      <td>0.041992</td>\n",
       "      <td>0.042969</td>\n",
       "      <td>...</td>\n",
       "      <td>0.000000</td>\n",
       "      <td>0.000000</td>\n",
       "      <td>0.000000</td>\n",
       "      <td>0.000000</td>\n",
       "      <td>0.000000</td>\n",
       "      <td>0.000000</td>\n",
       "      <td>0.000000</td>\n",
       "      <td>0.000000</td>\n",
       "      <td>0.000000</td>\n",
       "      <td>negative</td>\n",
       "    </tr>\n",
       "    <tr>\n",
       "      <th>...</th>\n",
       "      <td>...</td>\n",
       "      <td>...</td>\n",
       "      <td>...</td>\n",
       "      <td>...</td>\n",
       "      <td>...</td>\n",
       "      <td>...</td>\n",
       "      <td>...</td>\n",
       "      <td>...</td>\n",
       "      <td>...</td>\n",
       "      <td>...</td>\n",
       "      <td>...</td>\n",
       "      <td>...</td>\n",
       "      <td>...</td>\n",
       "      <td>...</td>\n",
       "      <td>...</td>\n",
       "      <td>...</td>\n",
       "      <td>...</td>\n",
       "      <td>...</td>\n",
       "      <td>...</td>\n",
       "      <td>...</td>\n",
       "      <td>...</td>\n",
       "    </tr>\n",
       "    <tr>\n",
       "      <th>4611</th>\n",
       "      <td>0.018066</td>\n",
       "      <td>0.026367</td>\n",
       "      <td>0.037598</td>\n",
       "      <td>0.037598</td>\n",
       "      <td>0.040039</td>\n",
       "      <td>0.040527</td>\n",
       "      <td>0.041992</td>\n",
       "      <td>0.043457</td>\n",
       "      <td>0.043457</td>\n",
       "      <td>0.042969</td>\n",
       "      <td>...</td>\n",
       "      <td>0.000000</td>\n",
       "      <td>0.000000</td>\n",
       "      <td>0.000000</td>\n",
       "      <td>0.000000</td>\n",
       "      <td>0.000000</td>\n",
       "      <td>0.000000</td>\n",
       "      <td>0.000000</td>\n",
       "      <td>0.000000</td>\n",
       "      <td>0.000000</td>\n",
       "      <td>positive</td>\n",
       "    </tr>\n",
       "    <tr>\n",
       "      <th>4612</th>\n",
       "      <td>0.000000</td>\n",
       "      <td>0.000000</td>\n",
       "      <td>0.000000</td>\n",
       "      <td>0.000000</td>\n",
       "      <td>0.000000</td>\n",
       "      <td>0.000000</td>\n",
       "      <td>0.000000</td>\n",
       "      <td>0.000000</td>\n",
       "      <td>0.000000</td>\n",
       "      <td>0.000000</td>\n",
       "      <td>...</td>\n",
       "      <td>-3.395961</td>\n",
       "      <td>-3.695465</td>\n",
       "      <td>-3.683924</td>\n",
       "      <td>-3.430692</td>\n",
       "      <td>-3.029513</td>\n",
       "      <td>-2.550655</td>\n",
       "      <td>-2.041340</td>\n",
       "      <td>-1.551488</td>\n",
       "      <td>-1.130006</td>\n",
       "      <td>neutral</td>\n",
       "    </tr>\n",
       "    <tr>\n",
       "      <th>4613</th>\n",
       "      <td>0.040527</td>\n",
       "      <td>0.057617</td>\n",
       "      <td>0.067383</td>\n",
       "      <td>0.055664</td>\n",
       "      <td>0.067383</td>\n",
       "      <td>0.079590</td>\n",
       "      <td>0.096680</td>\n",
       "      <td>0.104004</td>\n",
       "      <td>0.083496</td>\n",
       "      <td>0.063965</td>\n",
       "      <td>...</td>\n",
       "      <td>0.000000</td>\n",
       "      <td>0.000000</td>\n",
       "      <td>0.000000</td>\n",
       "      <td>0.000000</td>\n",
       "      <td>0.000000</td>\n",
       "      <td>0.000000</td>\n",
       "      <td>0.000000</td>\n",
       "      <td>0.000000</td>\n",
       "      <td>0.000000</td>\n",
       "      <td>positive</td>\n",
       "    </tr>\n",
       "    <tr>\n",
       "      <th>4614</th>\n",
       "      <td>0.015137</td>\n",
       "      <td>0.025391</td>\n",
       "      <td>0.034668</td>\n",
       "      <td>0.034668</td>\n",
       "      <td>0.040527</td>\n",
       "      <td>0.039551</td>\n",
       "      <td>0.038086</td>\n",
       "      <td>0.037598</td>\n",
       "      <td>0.032715</td>\n",
       "      <td>0.031250</td>\n",
       "      <td>...</td>\n",
       "      <td>0.000000</td>\n",
       "      <td>0.000000</td>\n",
       "      <td>0.000000</td>\n",
       "      <td>0.000000</td>\n",
       "      <td>0.000000</td>\n",
       "      <td>0.000000</td>\n",
       "      <td>0.000000</td>\n",
       "      <td>0.000000</td>\n",
       "      <td>0.000000</td>\n",
       "      <td>neutral</td>\n",
       "    </tr>\n",
       "    <tr>\n",
       "      <th>4615</th>\n",
       "      <td>0.017578</td>\n",
       "      <td>0.030273</td>\n",
       "      <td>0.044922</td>\n",
       "      <td>0.052734</td>\n",
       "      <td>0.058594</td>\n",
       "      <td>0.055664</td>\n",
       "      <td>0.049805</td>\n",
       "      <td>0.051758</td>\n",
       "      <td>0.044922</td>\n",
       "      <td>0.054688</td>\n",
       "      <td>...</td>\n",
       "      <td>-4.053696</td>\n",
       "      <td>5.832574</td>\n",
       "      <td>-18.247168</td>\n",
       "      <td>2.835759</td>\n",
       "      <td>-7.813574</td>\n",
       "      <td>-19.835529</td>\n",
       "      <td>-1.514386</td>\n",
       "      <td>-9.881668</td>\n",
       "      <td>-4.250128</td>\n",
       "      <td>positive</td>\n",
       "    </tr>\n",
       "  </tbody>\n",
       "</table>\n",
       "<p>4616 rows × 2377 columns</p>\n",
       "</div>"
      ],
      "text/plain": [
       "             0         1         2         3         4         5         6  \\\n",
       "0     0.025391  0.031738  0.038574  0.026855  0.026855  0.034668  0.045410   \n",
       "1     0.150391  0.162598  0.180176  0.073730  0.064941  0.065430  0.068848   \n",
       "2     0.019043  0.024414  0.032715  0.034668  0.035156  0.037109  0.035645   \n",
       "3     0.018066  0.030762  0.062012  0.082031  0.104004  0.129883  0.125000   \n",
       "4     0.019043  0.028809  0.041016  0.042480  0.041992  0.042480  0.040527   \n",
       "...        ...       ...       ...       ...       ...       ...       ...   \n",
       "4611  0.018066  0.026367  0.037598  0.037598  0.040039  0.040527  0.041992   \n",
       "4612  0.000000  0.000000  0.000000  0.000000  0.000000  0.000000  0.000000   \n",
       "4613  0.040527  0.057617  0.067383  0.055664  0.067383  0.079590  0.096680   \n",
       "4614  0.015137  0.025391  0.034668  0.034668  0.040527  0.039551  0.038086   \n",
       "4615  0.017578  0.030273  0.044922  0.052734  0.058594  0.055664  0.049805   \n",
       "\n",
       "             7         8         9  ...       2367      2368       2369  \\\n",
       "0     0.054199  0.059082  0.057617  ...   0.000000  0.000000   0.000000   \n",
       "1     0.070801  0.080078  0.097656  ...   0.000000  0.000000   0.000000   \n",
       "2     0.035156  0.030273  0.038086  ... -11.658588 -0.967232  -9.198069   \n",
       "3     0.112305  0.090820  0.068848  ...   0.000000  0.000000   0.000000   \n",
       "4     0.040527  0.041992  0.042969  ...   0.000000  0.000000   0.000000   \n",
       "...        ...       ...       ...  ...        ...       ...        ...   \n",
       "4611  0.043457  0.043457  0.042969  ...   0.000000  0.000000   0.000000   \n",
       "4612  0.000000  0.000000  0.000000  ...  -3.395961 -3.695465  -3.683924   \n",
       "4613  0.104004  0.083496  0.063965  ...   0.000000  0.000000   0.000000   \n",
       "4614  0.037598  0.032715  0.031250  ...   0.000000  0.000000   0.000000   \n",
       "4615  0.051758  0.044922  0.054688  ...  -4.053696  5.832574 -18.247168   \n",
       "\n",
       "          2370      2371       2372      2373      2374      2375  Emotions  \n",
       "0     0.000000  0.000000   0.000000  0.000000  0.000000  0.000000  negative  \n",
       "1     0.000000  0.000000   0.000000  0.000000  0.000000  0.000000  positive  \n",
       "2    -2.373846 -9.807080  10.628701 -1.992553  0.143462  2.126044   neutral  \n",
       "3     0.000000  0.000000   0.000000  0.000000  0.000000  0.000000  positive  \n",
       "4     0.000000  0.000000   0.000000  0.000000  0.000000  0.000000  negative  \n",
       "...        ...       ...        ...       ...       ...       ...       ...  \n",
       "4611  0.000000  0.000000   0.000000  0.000000  0.000000  0.000000  positive  \n",
       "4612 -3.430692 -3.029513  -2.550655 -2.041340 -1.551488 -1.130006   neutral  \n",
       "4613  0.000000  0.000000   0.000000  0.000000  0.000000  0.000000  positive  \n",
       "4614  0.000000  0.000000   0.000000  0.000000  0.000000  0.000000   neutral  \n",
       "4615  2.835759 -7.813574 -19.835529 -1.514386 -9.881668 -4.250128  positive  \n",
       "\n",
       "[4616 rows x 2377 columns]"
      ]
     },
     "execution_count": 6,
     "metadata": {},
     "output_type": "execute_result"
    }
   ],
   "source": [
    "data = pd.read_csv('test_emotions.csv')\n",
    "data.fillna(0, inplace=True)\n",
    "data"
   ]
  },
  {
   "cell_type": "code",
   "execution_count": 9,
   "id": "3017e98f",
   "metadata": {},
   "outputs": [],
   "source": [
    "X = data.iloc[: ,:-1].values\n",
    "Y = data['Emotions'].values"
   ]
  },
  {
   "cell_type": "code",
   "execution_count": 10,
   "id": "38ded70c",
   "metadata": {},
   "outputs": [],
   "source": [
    "encoder = LabelEncoder()\n",
    "Y = encoder.fit_transform(Y)"
   ]
  },
  {
   "cell_type": "code",
   "execution_count": 66,
   "id": "4ff316ab",
   "metadata": {},
   "outputs": [
    {
     "data": {
      "text/plain": [
       "(2376,)"
      ]
     },
     "execution_count": 66,
     "metadata": {},
     "output_type": "execute_result"
    }
   ],
   "source": [
    "x_test[0].shape"
   ]
  },
  {
   "cell_type": "code",
   "execution_count": 13,
   "id": "167019a6",
   "metadata": {},
   "outputs": [],
   "source": [
    "x_test, y_test = X, Y\n",
    "val_dataset = EmotionDataset(x_test, y_test)"
   ]
  },
  {
   "cell_type": "code",
   "execution_count": 55,
   "id": "3d8cab7e",
   "metadata": {},
   "outputs": [
    {
     "data": {
      "text/plain": [
       "torch.Size([2376])"
      ]
     },
     "execution_count": 55,
     "metadata": {},
     "output_type": "execute_result"
    }
   ],
   "source": [
    "val_dataset[0]['input_values'].shape"
   ]
  },
  {
   "cell_type": "code",
   "execution_count": 14,
   "id": "74c66be1",
   "metadata": {},
   "outputs": [],
   "source": [
    "training_args = TrainingArguments(\n",
    "    output_dir=\"./cnn_eval_output\",\n",
    "    per_device_eval_batch_size=32,\n",
    "    dataloader_drop_last=False,\n",
    "    do_train=False,\n",
    "    do_eval=True,\n",
    "    report_to=\"none\"\n",
    ")\n",
    "\n",
    "trainer = Trainer(\n",
    "    model=model,\n",
    "    args=training_args,\n",
    "    eval_dataset=val_dataset\n",
    ")"
   ]
  },
  {
   "cell_type": "code",
   "execution_count": 15,
   "id": "1adb1c23",
   "metadata": {},
   "outputs": [
    {
     "data": {
      "text/html": [],
      "text/plain": [
       "<IPython.core.display.HTML object>"
      ]
     },
     "metadata": {},
     "output_type": "display_data"
    },
    {
     "name": "stdout",
     "output_type": "stream",
     "text": [
      "Eval Results: {'eval_loss': 0.1856144219636917, 'eval_model_preparation_time': 0.0008, 'eval_runtime': 5.3466, 'eval_samples_per_second': 863.348, 'eval_steps_per_second': 27.12}\n"
     ]
    }
   ],
   "source": [
    "eval_results = trainer.evaluate()\n",
    "print(\"Eval Results:\", eval_results)"
   ]
  },
  {
   "cell_type": "code",
   "execution_count": 16,
   "id": "2fc79f2d",
   "metadata": {},
   "outputs": [],
   "source": [
    "predictions = trainer.predict(val_dataset)\n",
    "preds = torch.argmax(torch.tensor(predictions.predictions), dim=1).numpy()\n",
    "true = predictions.label_ids"
   ]
  },
  {
   "cell_type": "code",
   "execution_count": 17,
   "id": "52b9ff0f",
   "metadata": {},
   "outputs": [
    {
     "name": "stdout",
     "output_type": "stream",
     "text": [
      "              precision    recall  f1-score   support\n",
      "\n",
      "           0     0.9661    0.9252    0.9452      1538\n",
      "           1     0.9598    0.9929    0.9760      1539\n",
      "           2     0.9626    0.9701    0.9663      1539\n",
      "\n",
      "    accuracy                         0.9627      4616\n",
      "   macro avg     0.9628    0.9627    0.9625      4616\n",
      "weighted avg     0.9628    0.9627    0.9625      4616\n",
      "\n"
     ]
    },
    {
     "data": {
      "image/png": "[encoded data removed]",
      "text/plain": [
       "<Figure size 640x480 with 2 Axes>"
      ]
     },
     "metadata": {},
     "output_type": "display_data"
    }
   ],
   "source": [
    "from sklearn.metrics import classification_report, confusion_matrix\n",
    "import seaborn as sns\n",
    "import matplotlib.pyplot as plt\n",
    "\n",
    "print(classification_report(true, preds, digits=4))\n",
    "sns.heatmap(confusion_matrix(true, preds), annot=True, fmt='d', cmap='Blues')\n",
    "plt.xlabel(\"Predicted\")\n",
    "plt.ylabel(\"True\")\n",
    "plt.show()"
   ]
  },
  {
   "cell_type": "code",
   "execution_count": 263,
   "id": "7462b60d",
   "metadata": {},
   "outputs": [],
   "source": [
    "class DaBloatCNNPipeline:\n",
    "    def __init__(self):\n",
    "        self.sentiment = {0:'negative', 1:'neutral', 2:'positive'}\n",
    "        self.device = torch.device('cuda' if torch.cuda.is_available() else 'cpu')\n",
    "        self.frame_length = 2048\n",
    "        self.hop_length = 512\n",
    "        self.training_args = TrainingArguments(\n",
    "                            output_dir=\"./cnn_eval_output\",\n",
    "                            per_device_eval_batch_size=32,\n",
    "                            dataloader_drop_last=False,\n",
    "                            do_train=False,\n",
    "                            do_eval=True,\n",
    "                            report_to=\"none\"\n",
    "                        )\n",
    "        self.config = CNNConfig.from_pretrained('dabloat-cnn-emotion-aug')\n",
    "        self.weights = torch.load('./dabloat-cnn-emotion-aug.pth', map_location=self.device)\n",
    "        self.model = CNNForSequenceClassification(config=self.config).to(self.device)\n",
    "        self.model.load_state_dict(self.weights)\n",
    "        self.predictor = Trainer(\n",
    "                model=self.model,\n",
    "                args=self.training_args,\n",
    "        )\n",
    "        \n",
    "    def zero_crossing_rate(self, data, fr_len, hop_len):\n",
    "        zcr = librosa.feature.zero_crossing_rate(y=data, frame_length=fr_len, hop_length=hop_len)\n",
    "        return np.squeeze(zcr)\n",
    "    \n",
    "    def root_mean_square(self, data, fr_len, hop_len):\n",
    "        rms = librosa.feature.rms(y=data, frame_length=fr_len, hop_length=hop_len)\n",
    "        return np.squeeze(rms)\n",
    "    \n",
    "    def mfcc(self, data, sr, flatten=True):\n",
    "        mfcc = librosa.feature.mfcc(y=data, sr=sr)\n",
    "        return np.squeeze(mfcc.T) if not flatten else np.ravel(mfcc.T)\n",
    "    \n",
    "    def extract(self, data,sr=16000, fr_len=2048, hop_len=512):\n",
    "        res = np.array([])\n",
    "        result = np.hstack((\n",
    "            res,\n",
    "            self.zero_crossing_rate(data, fr_len, hop_len),\n",
    "            self.root_mean_square(data, fr_len, hop_len),\n",
    "            self.mfcc(data, sr)\n",
    "        ))\n",
    "        return result\n",
    "    \n",
    "    def process_test(self, path):\n",
    "        data, sr = librosa.load(path, duration=2.5, offset=0.6)\n",
    "        feat = self.extract(data)\n",
    "        return np.pad(feat, (0, 2376 - feat.shape[0]), 'constant')\n",
    "    \n",
    "    def predict_sentiment(self, path):\n",
    "        aud_data = [self.process_test(path)]\n",
    "        dummy_emotion = [0]\n",
    "        data_pred = EmotionDataset(aud_data, dummy_emotion)\n",
    "        pred = self.predictor.predict(data_pred)\n",
    "        summary = pred.predictions\n",
    "        return {'prediction':summary, 'sentiment':self.sentiment[np.argmax(summary)]}"
   ]
  },
  {
   "cell_type": "code",
   "execution_count": 264,
   "id": "933bfd9e",
   "metadata": {},
   "outputs": [],
   "source": [
    "classify = DaBloatCNNPipeline()"
   ]
  },
  {
   "cell_type": "markdown",
   "id": "fd1a3d55",
   "metadata": {},
   "source": [
    "# CREMA CHECK"
   ]
  },
  {
   "cell_type": "code",
   "execution_count": 267,
   "id": "944b36f1",
   "metadata": {},
   "outputs": [],
   "source": [
    "n_crema = 12\n",
    "crema = pd.read_csv('datasets/crema.csv')\n",
    "crema_neut = crema[crema['sentiment'] == 'neutral'].iloc[n_crema]\n",
    "crema_neg = crema[crema['sentiment'] == 'negative'].iloc[n_crema]\n",
    "crema_pos = crema[crema['sentiment'] == 'positive'].iloc[n_crema]"
   ]
  },
  {
   "cell_type": "code",
   "execution_count": 268,
   "id": "5bb4f483",
   "metadata": {},
   "outputs": [
    {
     "name": "stdout",
     "output_type": "stream",
     "text": [
      "neutral\n"
     ]
    },
    {
     "data": {
      "text/html": [],
      "text/plain": [
       "<IPython.core.display.HTML object>"
      ]
     },
     "metadata": {},
     "output_type": "display_data"
    },
    {
     "data": {
      "text/plain": [
       "{'prediction': array([[ -3.2204607,  10.549007 , -11.867853 ]], dtype=float32),\n",
       " 'sentiment': 'neutral'}"
      ]
     },
     "execution_count": 268,
     "metadata": {},
     "output_type": "execute_result"
    }
   ],
   "source": [
    "print(crema_neut['sentiment'])\n",
    "classify.predict_sentiment(crema_neut['file_path'])"
   ]
  },
  {
   "cell_type": "code",
   "execution_count": 269,
   "id": "aba94fe5",
   "metadata": {},
   "outputs": [
    {
     "name": "stdout",
     "output_type": "stream",
     "text": [
      "negative\n"
     ]
    },
    {
     "data": {
      "text/html": [],
      "text/plain": [
       "<IPython.core.display.HTML object>"
      ]
     },
     "metadata": {},
     "output_type": "display_data"
    },
    {
     "data": {
      "text/plain": [
       "{'prediction': array([[ 5.1789975, -9.509143 , -5.855053 ]], dtype=float32),\n",
       " 'sentiment': 'negative'}"
      ]
     },
     "execution_count": 269,
     "metadata": {},
     "output_type": "execute_result"
    }
   ],
   "source": [
    "print(crema_neg['sentiment'])\n",
    "classify.predict_sentiment(crema_neg['file_path'])"
   ]
  },
  {
   "cell_type": "code",
   "execution_count": 270,
   "id": "285cd791",
   "metadata": {},
   "outputs": [
    {
     "name": "stdout",
     "output_type": "stream",
     "text": [
      "positive\n"
     ]
    },
    {
     "data": {
      "text/html": [],
      "text/plain": [
       "<IPython.core.display.HTML object>"
      ]
     },
     "metadata": {},
     "output_type": "display_data"
    },
    {
     "data": {
      "text/plain": [
       "{'prediction': array([[ -2.9018726, -11.559529 ,   5.1159534]], dtype=float32),\n",
       " 'sentiment': 'positive'}"
      ]
     },
     "execution_count": 270,
     "metadata": {},
     "output_type": "execute_result"
    }
   ],
   "source": [
    "print(crema_pos['sentiment'])\n",
    "classify.predict_sentiment(crema_pos['file_path'])"
   ]
  },
  {
   "cell_type": "markdown",
   "id": "6109b788",
   "metadata": {},
   "source": [
    "# RAVNESS CHECK"
   ]
  },
  {
   "cell_type": "code",
   "execution_count": 253,
   "id": "68fb3908",
   "metadata": {},
   "outputs": [],
   "source": [
    "ravdess = pd.read_csv('datasets/ravdess.csv')\n",
    "ravdess_neut = ravdess[ravdess['sentiment'] == 'neutral'].iloc[12]\n",
    "ravdess_neg = ravdess[ravdess['sentiment'] == 'negative'].iloc[12]\n",
    "ravdess_pos = ravdess[ravdess['sentiment'] == 'positive'].iloc[12]"
   ]
  },
  {
   "cell_type": "code",
   "execution_count": 271,
   "id": "a0532aab",
   "metadata": {},
   "outputs": [
    {
     "name": "stdout",
     "output_type": "stream",
     "text": [
      "neutral\n"
     ]
    },
    {
     "data": {
      "text/html": [],
      "text/plain": [
       "<IPython.core.display.HTML object>"
      ]
     },
     "metadata": {},
     "output_type": "display_data"
    },
    {
     "data": {
      "text/plain": [
       "{'prediction': array([[-3.3947773,  7.4861217, -5.525408 ]], dtype=float32),\n",
       " 'sentiment': 'neutral'}"
      ]
     },
     "execution_count": 271,
     "metadata": {},
     "output_type": "execute_result"
    }
   ],
   "source": [
    "print(ravdess_neut['sentiment'])\n",
    "classify.predict_sentiment(ravdess_neut['file_path'])"
   ]
  },
  {
   "cell_type": "code",
   "execution_count": 272,
   "id": "5eede419",
   "metadata": {},
   "outputs": [
    {
     "name": "stdout",
     "output_type": "stream",
     "text": [
      "negative\n"
     ]
    },
    {
     "data": {
      "text/html": [],
      "text/plain": [
       "<IPython.core.display.HTML object>"
      ]
     },
     "metadata": {},
     "output_type": "display_data"
    },
    {
     "data": {
      "text/plain": [
       "{'prediction': array([[ 13.430473, -20.35952 ,  -8.862479]], dtype=float32),\n",
       " 'sentiment': 'negative'}"
      ]
     },
     "execution_count": 272,
     "metadata": {},
     "output_type": "execute_result"
    }
   ],
   "source": [
    "print(ravdess_neg['sentiment'])\n",
    "classify.predict_sentiment(ravdess_neg['file_path'])"
   ]
  },
  {
   "cell_type": "code",
   "execution_count": 273,
   "id": "5db6e8c8",
   "metadata": {},
   "outputs": [
    {
     "name": "stdout",
     "output_type": "stream",
     "text": [
      "positive\n"
     ]
    },
    {
     "data": {
      "text/html": [],
      "text/plain": [
       "<IPython.core.display.HTML object>"
      ]
     },
     "metadata": {},
     "output_type": "display_data"
    },
    {
     "data": {
      "text/plain": [
       "{'prediction': array([[ -1.018823, -14.718866,   5.930568]], dtype=float32),\n",
       " 'sentiment': 'positive'}"
      ]
     },
     "execution_count": 273,
     "metadata": {},
     "output_type": "execute_result"
    }
   ],
   "source": [
    "print(ravdess_pos['sentiment'])\n",
    "classify.predict_sentiment(ravdess_pos['file_path'])"
   ]
  },
  {
   "cell_type": "markdown",
   "id": "30481617",
   "metadata": {},
   "source": [
    "# SAVEE CHECK"
   ]
  },
  {
   "cell_type": "code",
   "execution_count": 275,
   "id": "0949caa7",
   "metadata": {},
   "outputs": [],
   "source": [
    "savee = pd.read_csv('datasets/savee.csv')\n",
    "savee_neut = savee[savee['sentiment'] == 'neutral'].iloc[12]\n",
    "savee_neg = savee[savee['sentiment'] == 'negative'].iloc[12]\n",
    "savee_pos = savee[savee['sentiment'] == 'positive'].iloc[12]"
   ]
  },
  {
   "cell_type": "code",
   "execution_count": 276,
   "id": "eabc66c8",
   "metadata": {},
   "outputs": [
    {
     "name": "stdout",
     "output_type": "stream",
     "text": [
      "neutral\n"
     ]
    },
    {
     "data": {
      "text/html": [],
      "text/plain": [
       "<IPython.core.display.HTML object>"
      ]
     },
     "metadata": {},
     "output_type": "display_data"
    },
    {
     "data": {
      "text/plain": [
       "{'prediction': array([[ -7.664056,  17.72554 , -11.095494]], dtype=float32),\n",
       " 'sentiment': 'neutral'}"
      ]
     },
     "execution_count": 276,
     "metadata": {},
     "output_type": "execute_result"
    }
   ],
   "source": [
    "print(savee_neut['sentiment'])\n",
    "classify.predict_sentiment(savee_neut['file_path'])"
   ]
  },
  {
   "cell_type": "code",
   "execution_count": 278,
   "id": "7190baa9",
   "metadata": {},
   "outputs": [
    {
     "name": "stdout",
     "output_type": "stream",
     "text": [
      "negative\n"
     ]
    },
    {
     "data": {
      "text/html": [],
      "text/plain": [
       "<IPython.core.display.HTML object>"
      ]
     },
     "metadata": {},
     "output_type": "display_data"
    },
    {
     "data": {
      "text/plain": [
       "{'prediction': array([[ 4.3383565, -6.510544 , -9.738879 ]], dtype=float32),\n",
       " 'sentiment': 'negative'}"
      ]
     },
     "execution_count": 278,
     "metadata": {},
     "output_type": "execute_result"
    }
   ],
   "source": [
    "print(savee_neg['sentiment'])\n",
    "classify.predict_sentiment(savee_neg['file_path'])"
   ]
  },
  {
   "cell_type": "code",
   "execution_count": 279,
   "id": "80da9b29",
   "metadata": {},
   "outputs": [
    {
     "name": "stdout",
     "output_type": "stream",
     "text": [
      "positive\n"
     ]
    },
    {
     "data": {
      "text/html": [],
      "text/plain": [
       "<IPython.core.display.HTML object>"
      ]
     },
     "metadata": {},
     "output_type": "display_data"
    },
    {
     "data": {
      "text/plain": [
       "{'prediction': array([[ -2.7136152, -11.944947 ,   3.06334  ]], dtype=float32),\n",
       " 'sentiment': 'positive'}"
      ]
     },
     "execution_count": 279,
     "metadata": {},
     "output_type": "execute_result"
    }
   ],
   "source": [
    "print(savee_pos['sentiment'])\n",
    "classify.predict_sentiment(savee_pos['file_path'])"
   ]
  },
  {
   "cell_type": "markdown",
   "id": "3098d609",
   "metadata": {},
   "source": [
    "# TESS CHECK"
   ]
  },
  {
   "cell_type": "code",
   "execution_count": 280,
   "id": "52b2e60b",
   "metadata": {},
   "outputs": [],
   "source": [
    "tess = pd.read_csv('datasets/tess.csv')\n",
    "tess_neut = tess[tess['sentiment'] == 'neutral'].iloc[12]\n",
    "tess_neg = tess[tess['sentiment'] == 'negative'].iloc[12]\n",
    "tess_pos = tess[tess['sentiment'] == 'positive'].iloc[12]"
   ]
  },
  {
   "cell_type": "code",
   "execution_count": 281,
   "id": "36e6950b",
   "metadata": {},
   "outputs": [
    {
     "name": "stdout",
     "output_type": "stream",
     "text": [
      "neutral\n"
     ]
    },
    {
     "data": {
      "text/html": [],
      "text/plain": [
       "<IPython.core.display.HTML object>"
      ]
     },
     "metadata": {},
     "output_type": "display_data"
    },
    {
     "data": {
      "text/plain": [
       "{'prediction': array([[-4.7823772,  9.014636 , -9.376236 ]], dtype=float32),\n",
       " 'sentiment': 'neutral'}"
      ]
     },
     "execution_count": 281,
     "metadata": {},
     "output_type": "execute_result"
    }
   ],
   "source": [
    "print(tess_neut['sentiment'])\n",
    "classify.predict_sentiment(tess_neut['file_path'])"
   ]
  },
  {
   "cell_type": "code",
   "execution_count": 282,
   "id": "5fd0d05b",
   "metadata": {},
   "outputs": [
    {
     "name": "stdout",
     "output_type": "stream",
     "text": [
      "negative\n"
     ]
    },
    {
     "data": {
      "text/html": [],
      "text/plain": [
       "<IPython.core.display.HTML object>"
      ]
     },
     "metadata": {},
     "output_type": "display_data"
    },
    {
     "data": {
      "text/plain": [
       "{'prediction': array([[  8.701019, -11.025155,  -9.525874]], dtype=float32),\n",
       " 'sentiment': 'negative'}"
      ]
     },
     "execution_count": 282,
     "metadata": {},
     "output_type": "execute_result"
    }
   ],
   "source": [
    "print(tess_neg['sentiment'])\n",
    "classify.predict_sentiment(tess_neg['file_path'])"
   ]
  },
  {
   "cell_type": "code",
   "execution_count": 283,
   "id": "af91b326",
   "metadata": {},
   "outputs": [
    {
     "name": "stdout",
     "output_type": "stream",
     "text": [
      "positive\n"
     ]
    },
    {
     "data": {
      "text/html": [],
      "text/plain": [
       "<IPython.core.display.HTML object>"
      ]
     },
     "metadata": {},
     "output_type": "display_data"
    },
    {
     "data": {
      "text/plain": [
       "{'prediction': array([[ -6.4156103, -22.105927 ,  11.426043 ]], dtype=float32),\n",
       " 'sentiment': 'positive'}"
      ]
     },
     "execution_count": 283,
     "metadata": {},
     "output_type": "execute_result"
    }
   ],
   "source": [
    "print(tess_pos['sentiment'])\n",
    "classify.predict_sentiment(tess_pos['file_path'])"
   ]
  },
  {
   "cell_type": "code",
   "execution_count": 25,
   "id": "9d313363",
   "metadata": {},
   "outputs": [],
   "source": [
    "# Created by DaBloat"
   ]
  }
 ],
 "metadata": {
  "kernelspec": {
   "display_name": "Project",
   "language": "python",
   "name": "project"
  },
  "language_info": {
   "codemirror_mode": {
    "name": "ipython",
    "version": 3
   },
   "file_extension": ".py",
   "mimetype": "text/x-python",
   "name": "python",
   "nbconvert_exporter": "python",
   "pygments_lexer": "ipython3",
   "version": "3.12.8"
  }
 },
 "nbformat": 4,
 "nbformat_minor": 5
}
