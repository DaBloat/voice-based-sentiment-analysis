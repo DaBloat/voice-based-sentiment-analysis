{
 "cells": [
  {
   "cell_type": "code",
   "execution_count": 29,
   "id": "4ff7a612",
   "metadata": {},
   "outputs": [],
   "source": [
    "import pandas as pd\n",
    "import os\n",
    "from sklearn.utils import resample"
   ]
  },
  {
   "cell_type": "code",
   "execution_count": 30,
   "id": "8996b273",
   "metadata": {},
   "outputs": [],
   "source": [
    "crema = 'CREMA-D/'\n",
    "ravdess = 'RAVDESS/'\n",
    "savee = 'SAVEE/'\n",
    "tess = 'TESS/'\n"
   ]
  },
  {
   "cell_type": "code",
   "execution_count": 1,
   "id": "2430e3d9",
   "metadata": {},
   "outputs": [],
   "source": [
    "ravdess_emo = {'01':'neutral', '02':'calm', '03':'happy', '04':'sad', '05':'angry', '06':'fearful', '07':'disgust', '08':'surprised'}\n",
    "crema_emo = {'SAD': 'sad', 'ANG': 'angry', 'DIS': 'disgust', 'FEA': 'fear', 'HAP':'happy', 'NEU':'neutral'}\n",
    "savee_emo = {'a':'angry', 'd':'disgust', 'f':'fear', 'h':'happy', 'n':'neutral', 'sa':'sad', 'su':'surprise'}"
   ]
  },
  {
   "cell_type": "code",
   "execution_count": 32,
   "id": "f5e12148",
   "metadata": {},
   "outputs": [],
   "source": [
    "def resample_data(data):\n",
    "    '''sampling the dataset for equal classifications'''\n",
    "    neu = data[data['sentiment'] == 'neutral']\n",
    "    pos = data[data['sentiment'] == 'positive']\n",
    "    neg = data[data['sentiment'] == 'negative']\n",
    "    max_len = max([len(neu), len(pos), len(neg)])\n",
    "    neu = resample(neu, replace=True, n_samples=max_len, random_state=42)\n",
    "    pos = resample(pos, replace=True, n_samples=max_len, random_state=42)\n",
    "    neg = resample(neg, replace=True, n_samples=max_len, random_state=42)\n",
    "    return pd.concat([neu, pos, neg])"
   ]
  },
  {
   "cell_type": "code",
   "execution_count": 53,
   "id": "afd548e3",
   "metadata": {},
   "outputs": [],
   "source": [
    "def emo_to_sentiment(emo):\n",
    "    if emo in ['happy', 'calm', 'surprised', 'surprise']:\n",
    "        return 'positive'\n",
    "    if emo in ['sad', 'angry', 'fearful', 'disgust', 'fear']:\n",
    "        return 'negative'\n",
    "    else:\n",
    "        return emo"
   ]
  },
  {
   "cell_type": "markdown",
   "id": "0479f625",
   "metadata": {},
   "source": [
    "# RAVDESS"
   ]
  },
  {
   "cell_type": "code",
   "execution_count": 34,
   "id": "fbf4e4ac",
   "metadata": {},
   "outputs": [],
   "source": [
    "emotion = []\n",
    "path = []\n",
    "\n",
    "for actor in os.listdir(ravdess):\n",
    "    for item in os.listdir(ravdess + actor):\n",
    "        emotion.append(emo_to_sentiment(ravdess_emo[item.split('-')[2]]))\n",
    "        path.append(ravdess + actor + '/' + item)\n",
    "        "
   ]
  },
  {
   "cell_type": "code",
   "execution_count": 35,
   "id": "03195d21",
   "metadata": {},
   "outputs": [],
   "source": [
    "sentiment = pd.DataFrame(emotion, columns=['sentiment'])\n",
    "file_path = pd.DataFrame(path, columns=['file_path'])"
   ]
  },
  {
   "cell_type": "code",
   "execution_count": 36,
   "id": "4ee091fa",
   "metadata": {},
   "outputs": [],
   "source": [
    "ravdess_dataset = pd.concat([file_path, sentiment], axis=1)"
   ]
  },
  {
   "cell_type": "code",
   "execution_count": 37,
   "id": "1df3964d",
   "metadata": {},
   "outputs": [],
   "source": [
    "ravdess_dataset = resample_data(ravdess_dataset)"
   ]
  },
  {
   "cell_type": "code",
   "execution_count": 38,
   "id": "26593374",
   "metadata": {},
   "outputs": [
    {
     "data": {
      "text/plain": [
       "sentiment\n",
       "neutral     768\n",
       "positive    768\n",
       "negative    768\n",
       "Name: count, dtype: int64"
      ]
     },
     "execution_count": 38,
     "metadata": {},
     "output_type": "execute_result"
    }
   ],
   "source": [
    "ravdess_dataset['sentiment'].value_counts()"
   ]
  },
  {
   "cell_type": "code",
   "execution_count": 39,
   "id": "9aa1ef70",
   "metadata": {},
   "outputs": [],
   "source": [
    "ravdess_dataset.to_csv('datasets/ravdess.csv', index=False)"
   ]
  },
  {
   "cell_type": "markdown",
   "id": "44b55da4",
   "metadata": {},
   "source": [
    "# CREMA-D"
   ]
  },
  {
   "cell_type": "code",
   "execution_count": 40,
   "id": "c94443a3",
   "metadata": {},
   "outputs": [],
   "source": [
    "emotion = []\n",
    "path = []\n",
    "\n",
    "for items in os.listdir(crema):\n",
    "    emotion.append(emo_to_sentiment(crema_emo[items.split('_')[2]]))\n",
    "    path.append(crema + items)"
   ]
  },
  {
   "cell_type": "code",
   "execution_count": 41,
   "id": "6061bb35",
   "metadata": {},
   "outputs": [],
   "source": [
    "sentiment = pd.DataFrame(emotion, columns=['sentiment'])\n",
    "file_path = pd.DataFrame(path, columns=['file_path'])"
   ]
  },
  {
   "cell_type": "code",
   "execution_count": 42,
   "id": "f123d956",
   "metadata": {},
   "outputs": [],
   "source": [
    "crema_dataset = pd.concat([file_path, sentiment], axis=1)"
   ]
  },
  {
   "cell_type": "code",
   "execution_count": 43,
   "id": "e6878a74",
   "metadata": {},
   "outputs": [],
   "source": [
    "crema_dataset = resample_data(crema_dataset)"
   ]
  },
  {
   "cell_type": "code",
   "execution_count": 44,
   "id": "0af91ff8",
   "metadata": {},
   "outputs": [
    {
     "data": {
      "text/plain": [
       "sentiment\n",
       "neutral     5084\n",
       "positive    5084\n",
       "negative    5084\n",
       "Name: count, dtype: int64"
      ]
     },
     "execution_count": 44,
     "metadata": {},
     "output_type": "execute_result"
    }
   ],
   "source": [
    "crema_dataset['sentiment'].value_counts()"
   ]
  },
  {
   "cell_type": "code",
   "execution_count": 45,
   "id": "ac18e6a4",
   "metadata": {},
   "outputs": [],
   "source": [
    "crema_dataset.to_csv('datasets/crema.csv', index=False)"
   ]
  },
  {
   "cell_type": "markdown",
   "id": "35e6e9fc",
   "metadata": {},
   "source": [
    "# TESS"
   ]
  },
  {
   "cell_type": "code",
   "execution_count": 54,
   "id": "115cbccc",
   "metadata": {},
   "outputs": [],
   "source": [
    "emotion = []\n",
    "path = []\n",
    "\n",
    "for file in os.listdir(tess):\n",
    "    emo = file.split('_')[-1].lower()\n",
    "    for wav in os.listdir(tess + file):\n",
    "        emotion.append(emo_to_sentiment(emo))\n",
    "        path.append(tess + file + '/' + wav)"
   ]
  },
  {
   "cell_type": "code",
   "execution_count": 56,
   "id": "683550d2",
   "metadata": {},
   "outputs": [],
   "source": [
    "sentiment = pd.DataFrame(emotion, columns=['sentiment'])\n",
    "file_path = pd.DataFrame(path, columns=['file_path'])"
   ]
  },
  {
   "cell_type": "code",
   "execution_count": 57,
   "id": "c99597fc",
   "metadata": {},
   "outputs": [],
   "source": [
    "tess_dataset = pd.concat([file_path, sentiment], axis=1)"
   ]
  },
  {
   "cell_type": "code",
   "execution_count": 59,
   "id": "81749eb2",
   "metadata": {},
   "outputs": [],
   "source": [
    "tess_dataset = resample_data(tess_dataset)"
   ]
  },
  {
   "cell_type": "code",
   "execution_count": 60,
   "id": "eb20241a",
   "metadata": {},
   "outputs": [
    {
     "data": {
      "text/plain": [
       "sentiment\n",
       "neutral     1600\n",
       "positive    1600\n",
       "negative    1600\n",
       "Name: count, dtype: int64"
      ]
     },
     "execution_count": 60,
     "metadata": {},
     "output_type": "execute_result"
    }
   ],
   "source": [
    "tess_dataset['sentiment'].value_counts()"
   ]
  },
  {
   "cell_type": "code",
   "execution_count": 61,
   "id": "fd5dd781",
   "metadata": {},
   "outputs": [],
   "source": [
    "tess_dataset.to_csv('datasets/tess.csv', index=False)"
   ]
  },
  {
   "cell_type": "markdown",
   "id": "c906e5d3",
   "metadata": {},
   "source": [
    "# SAVEE"
   ]
  },
  {
   "cell_type": "code",
   "execution_count": 69,
   "id": "fb0d5a4f",
   "metadata": {},
   "outputs": [],
   "source": [
    "emotion = []\n",
    "path = []\n",
    "\n",
    "for wav in os.listdir(savee):\n",
    "    emotion.append(emo_to_sentiment(savee_emo[wav[:-6].split('_')[-1]]))\n",
    "    path.append(savee + wav)"
   ]
  },
  {
   "cell_type": "code",
   "execution_count": 70,
   "id": "70833a03",
   "metadata": {},
   "outputs": [],
   "source": [
    "sentiment = pd.DataFrame(emotion, columns=['sentiment'])\n",
    "file_path = pd.DataFrame(path, columns=['file_path'])"
   ]
  },
  {
   "cell_type": "code",
   "execution_count": 72,
   "id": "ffa28740",
   "metadata": {},
   "outputs": [],
   "source": [
    "savee_dataset = pd.concat([file_path, sentiment], axis=1)"
   ]
  },
  {
   "cell_type": "code",
   "execution_count": 73,
   "id": "9e388a31",
   "metadata": {},
   "outputs": [],
   "source": [
    "savee_dataset = resample_data(savee_dataset)"
   ]
  },
  {
   "cell_type": "code",
   "execution_count": 74,
   "id": "5d72a875",
   "metadata": {},
   "outputs": [
    {
     "data": {
      "text/plain": [
       "sentiment\n",
       "neutral     240\n",
       "positive    240\n",
       "negative    240\n",
       "Name: count, dtype: int64"
      ]
     },
     "execution_count": 74,
     "metadata": {},
     "output_type": "execute_result"
    }
   ],
   "source": [
    "savee_dataset['sentiment'].value_counts()"
   ]
  },
  {
   "cell_type": "code",
   "execution_count": 75,
   "id": "e0105718",
   "metadata": {},
   "outputs": [],
   "source": [
    "savee_dataset.to_csv('datasets/savee.csv', index=False)"
   ]
  },
  {
   "cell_type": "code",
   "execution_count": 76,
   "id": "4eda9677",
   "metadata": {},
   "outputs": [],
   "source": [
    "# Created by DaBloat"
   ]
  }
 ],
 "metadata": {
  "kernelspec": {
   "display_name": "Project",
   "language": "python",
   "name": "project"
  },
  "language_info": {
   "codemirror_mode": {
    "name": "ipython",
    "version": 3
   },
   "file_extension": ".py",
   "mimetype": "text/x-python",
   "name": "python",
   "nbconvert_exporter": "python",
   "pygments_lexer": "ipython3",
   "version": "3.12.8"
  }
 },
 "nbformat": 4,
 "nbformat_minor": 5
}
